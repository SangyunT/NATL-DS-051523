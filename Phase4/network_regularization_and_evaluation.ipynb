{
 "cells": [
  {
   "cell_type": "markdown",
   "metadata": {
    "slideshow": {
     "slide_type": "slide"
    }
   },
   "source": [
    "# Regularization and Evaluation of Neural Networks"
   ]
  },
  {
   "cell_type": "code",
   "execution_count": 6,
   "metadata": {},
   "outputs": [
    {
     "ename": "ModuleNotFoundError",
     "evalue": "No module named 'scikeras'",
     "output_type": "error",
     "traceback": [
      "\u001b[0;31m---------------------------------------------------------------------------\u001b[0m",
      "\u001b[0;31mModuleNotFoundError\u001b[0m                       Traceback (most recent call last)",
      "Cell \u001b[0;32mIn[6], line 19\u001b[0m\n\u001b[1;32m     16\u001b[0m \u001b[39mfrom\u001b[39;00m \u001b[39mtensorflow\u001b[39;00m\u001b[39m.\u001b[39;00m\u001b[39mkeras\u001b[39;00m\u001b[39m.\u001b[39;00m\u001b[39mcallbacks\u001b[39;00m \u001b[39mimport\u001b[39;00m EarlyStopping\n\u001b[1;32m     18\u001b[0m \u001b[39m# from scikeras.wrappers import KerasClassifier\u001b[39;00m\n\u001b[0;32m---> 19\u001b[0m \u001b[39mfrom\u001b[39;00m \u001b[39mscikeras\u001b[39;00m \u001b[39mimport\u001b[39;00m wrappers\n\u001b[1;32m     21\u001b[0m \u001b[39mimport\u001b[39;00m \u001b[39mos\u001b[39;00m\n\u001b[1;32m     22\u001b[0m \u001b[39mimport\u001b[39;00m \u001b[39msys\u001b[39;00m\n",
      "\u001b[0;31mModuleNotFoundError\u001b[0m: No module named 'scikeras'"
     ]
    }
   ],
   "source": [
    "from sklearn.datasets import load_sample_images\n",
    "from sklearn.datasets import load_digits\n",
    "from sklearn.model_selection import train_test_split, cross_val_score\n",
    "from sklearn.preprocessing import OneHotEncoder\n",
    "from sklearn.metrics import accuracy_score, confusion_matrix\n",
    "import matplotlib.pyplot as plt\n",
    "import matplotlib.image as mpimg\n",
    "import numpy as np\n",
    "import seaborn as sns\n",
    "\n",
    "from tensorflow.keras.models import Sequential\n",
    "from tensorflow.keras.layers import Dense, Dropout\n",
    "from tensorflow.keras.regularizers import l2\n",
    "from tensorflow.keras.optimizers import SGD\n",
    "# from tensorflow.keras.wrappers import scikit_learn\n",
    "from tensorflow.keras.callbacks import EarlyStopping\n",
    "\n",
    "# from scikeras.wrappers import KerasClassifier\n",
    "# from scikeras import wrappers\n",
    "\n",
    "import os\n",
    "import sys\n",
    "module_path = os.path.abspath(os.path.join(os.pardir, os.pardir))\n",
    "if module_path not in sys.path:\n",
    "    sys.path.append(module_path)\n",
    "    \n",
    "%load_ext autoreload\n",
    "%autoreload 2"
   ]
  },
  {
   "cell_type": "code",
   "execution_count": 2,
   "metadata": {},
   "outputs": [
    {
     "ename": "ModuleNotFoundError",
     "evalue": "No module named 'scikers'",
     "output_type": "error",
     "traceback": [
      "\u001b[0;31m---------------------------------------------------------------------------\u001b[0m",
      "\u001b[0;31mModuleNotFoundError\u001b[0m                       Traceback (most recent call last)",
      "Cell \u001b[0;32mIn[2], line 1\u001b[0m\n\u001b[0;32m----> 1\u001b[0m \u001b[39mfrom\u001b[39;00m \u001b[39mscikers\u001b[39;00m \u001b[39mimport\u001b[39;00m wrappers\n",
      "\u001b[0;31mModuleNotFoundError\u001b[0m: No module named 'scikers'"
     ]
    }
   ],
   "source": [
    "from scikeras.wrappers import KerasClassifier"
   ]
  },
  {
   "cell_type": "code",
   "execution_count": null,
   "metadata": {},
   "outputs": [],
   "source": [
    "# If you don't have scikeras installed, uncomment and run\n",
    "\n",
    "# pip install scikeras"
   ]
  },
  {
   "cell_type": "markdown",
   "metadata": {},
   "source": [
    "## Learning Objectives\n",
    "\n",
    "- use `keras` to code up a neural network model;\n",
    "- explain dropout and early stopping as distinctive forms of regularization in neural networks;\n",
    "- use wrappers inside `keras` to make models that can jibe with `sklearn`."
   ]
  },
  {
   "cell_type": "markdown",
   "metadata": {},
   "source": [
    "### From last time"
   ]
  },
  {
   "cell_type": "code",
   "execution_count": 2,
   "metadata": {},
   "outputs": [],
   "source": [
    "digits = load_digits()\n",
    "X = digits.data\n",
    "y = digits.target\n",
    "\n",
    "y_binary = y % 2"
   ]
  },
  {
   "cell_type": "code",
   "execution_count": 3,
   "metadata": {},
   "outputs": [
    {
     "name": "stderr",
     "output_type": "stream",
     "text": [
      "2023-07-31 11:18:01.639794: I tensorflow/core/common_runtime/pluggable_device/pluggable_device_factory.cc:305] Could not identify NUMA node of platform GPU ID 0, defaulting to 0. Your kernel may not have been built with NUMA support.\n",
      "2023-07-31 11:18:01.640632: I tensorflow/core/common_runtime/pluggable_device/pluggable_device_factory.cc:271] Created TensorFlow device (/job:localhost/replica:0/task:0/device:GPU:0 with 0 MB memory) -> physical PluggableDevice (device: 0, name: METAL, pci bus id: <undefined>)\n"
     ]
    },
    {
     "name": "stdout",
     "output_type": "stream",
     "text": [
      "Metal device set to: Apple M1 Pro\n",
      "\n",
      "systemMemory: 16.00 GB\n",
      "maxCacheSize: 5.33 GB\n",
      "\n",
      "Epoch 1/50\n"
     ]
    },
    {
     "name": "stderr",
     "output_type": "stream",
     "text": [
      "2023-07-31 11:18:01.973233: W tensorflow/core/platform/profile_utils/cpu_utils.cc:128] Failed to get CPU frequency: 0 Hz\n",
      "2023-07-31 11:18:02.868196: I tensorflow/core/grappler/optimizers/custom_graph_optimizer_registry.cc:113] Plugin optimizer for device_type GPU is enabled.\n"
     ]
    },
    {
     "name": "stdout",
     "output_type": "stream",
     "text": [
      "180/180 [==============================] - 6s 22ms/step - loss: 0.9045 - accuracy: 0.6861\n",
      "Epoch 2/50\n",
      "180/180 [==============================] - 4s 22ms/step - loss: 0.3075 - accuracy: 0.8531\n",
      "Epoch 3/50\n",
      "180/180 [==============================] - 4s 22ms/step - loss: 0.2384 - accuracy: 0.9009\n",
      "Epoch 4/50\n",
      "180/180 [==============================] - 4s 21ms/step - loss: 0.1947 - accuracy: 0.9204\n",
      "Epoch 5/50\n",
      "180/180 [==============================] - 4s 22ms/step - loss: 0.1532 - accuracy: 0.9388\n",
      "Epoch 6/50\n",
      "180/180 [==============================] - 4s 22ms/step - loss: 0.1248 - accuracy: 0.9527\n",
      "Epoch 7/50\n",
      "180/180 [==============================] - 5s 25ms/step - loss: 0.1029 - accuracy: 0.9588\n",
      "Epoch 8/50\n",
      "180/180 [==============================] - 4s 21ms/step - loss: 0.0898 - accuracy: 0.9655\n",
      "Epoch 9/50\n",
      "180/180 [==============================] - 4s 22ms/step - loss: 0.0769 - accuracy: 0.9699\n",
      "Epoch 10/50\n",
      "180/180 [==============================] - 4s 21ms/step - loss: 0.0683 - accuracy: 0.9750\n",
      "Epoch 11/50\n",
      "180/180 [==============================] - 2s 12ms/step - loss: 0.0602 - accuracy: 0.9783\n",
      "Epoch 12/50\n",
      "180/180 [==============================] - 2s 12ms/step - loss: 0.0551 - accuracy: 0.9805\n",
      "Epoch 13/50\n",
      "180/180 [==============================] - 2s 12ms/step - loss: 0.0487 - accuracy: 0.9861\n",
      "Epoch 14/50\n",
      "180/180 [==============================] - 2s 11ms/step - loss: 0.0457 - accuracy: 0.9839\n",
      "Epoch 15/50\n",
      "180/180 [==============================] - 2s 10ms/step - loss: 0.0436 - accuracy: 0.9866\n",
      "Epoch 16/50\n",
      "180/180 [==============================] - 2s 9ms/step - loss: 0.0373 - accuracy: 0.9883\n",
      "Epoch 17/50\n",
      "180/180 [==============================] - 2s 9ms/step - loss: 0.0359 - accuracy: 0.9883\n",
      "Epoch 18/50\n",
      "180/180 [==============================] - 2s 9ms/step - loss: 0.0316 - accuracy: 0.9894\n",
      "Epoch 19/50\n",
      "180/180 [==============================] - 2s 9ms/step - loss: 0.0290 - accuracy: 0.9911\n",
      "Epoch 20/50\n",
      "180/180 [==============================] - 1s 8ms/step - loss: 0.0300 - accuracy: 0.9905\n",
      "Epoch 21/50\n",
      "180/180 [==============================] - 1s 8ms/step - loss: 0.0241 - accuracy: 0.9928\n",
      "Epoch 22/50\n",
      "180/180 [==============================] - 2s 9ms/step - loss: 0.0241 - accuracy: 0.9911\n",
      "Epoch 23/50\n",
      "180/180 [==============================] - 2s 8ms/step - loss: 0.0241 - accuracy: 0.9917\n",
      "Epoch 24/50\n",
      "180/180 [==============================] - 2s 8ms/step - loss: 0.0210 - accuracy: 0.9905\n",
      "Epoch 25/50\n",
      "180/180 [==============================] - 2s 9ms/step - loss: 0.0195 - accuracy: 0.9933\n",
      "Epoch 26/50\n",
      "180/180 [==============================] - 1s 8ms/step - loss: 0.0157 - accuracy: 0.9939\n",
      "Epoch 27/50\n",
      "180/180 [==============================] - 1s 8ms/step - loss: 0.0178 - accuracy: 0.9944\n",
      "Epoch 28/50\n",
      "180/180 [==============================] - 1s 7ms/step - loss: 0.0154 - accuracy: 0.9933\n",
      "Epoch 29/50\n",
      "180/180 [==============================] - 1s 7ms/step - loss: 0.0151 - accuracy: 0.9950\n",
      "Epoch 30/50\n",
      "180/180 [==============================] - 1s 7ms/step - loss: 0.0104 - accuracy: 0.9978\n",
      "Epoch 31/50\n",
      "180/180 [==============================] - 2s 9ms/step - loss: 0.0119 - accuracy: 0.9955\n",
      "Epoch 32/50\n",
      "180/180 [==============================] - 2s 9ms/step - loss: 0.0098 - accuracy: 0.9961\n",
      "Epoch 33/50\n",
      "180/180 [==============================] - 1s 8ms/step - loss: 0.0130 - accuracy: 0.9955\n",
      "Epoch 34/50\n",
      "180/180 [==============================] - 1s 7ms/step - loss: 0.0097 - accuracy: 0.9972\n",
      "Epoch 35/50\n",
      "180/180 [==============================] - 1s 7ms/step - loss: 0.0090 - accuracy: 0.9972\n",
      "Epoch 36/50\n",
      "180/180 [==============================] - 1s 7ms/step - loss: 0.0112 - accuracy: 0.9961\n",
      "Epoch 37/50\n",
      "180/180 [==============================] - 1s 7ms/step - loss: 0.0081 - accuracy: 0.9978\n",
      "Epoch 38/50\n",
      "180/180 [==============================] - 1s 7ms/step - loss: 0.0067 - accuracy: 0.9972\n",
      "Epoch 39/50\n",
      "180/180 [==============================] - 1s 7ms/step - loss: 0.0067 - accuracy: 0.9978\n",
      "Epoch 40/50\n",
      "180/180 [==============================] - 1s 7ms/step - loss: 0.0072 - accuracy: 0.9989\n",
      "Epoch 41/50\n",
      "180/180 [==============================] - 1s 7ms/step - loss: 0.0071 - accuracy: 0.9983\n",
      "Epoch 42/50\n",
      "180/180 [==============================] - 1s 7ms/step - loss: 0.0061 - accuracy: 0.9978\n",
      "Epoch 43/50\n",
      "180/180 [==============================] - 1s 7ms/step - loss: 0.0059 - accuracy: 0.9978\n",
      "Epoch 44/50\n",
      "180/180 [==============================] - 1s 7ms/step - loss: 0.0062 - accuracy: 0.9972\n",
      "Epoch 45/50\n",
      "180/180 [==============================] - 1s 7ms/step - loss: 0.0042 - accuracy: 0.9989\n",
      "Epoch 46/50\n",
      "180/180 [==============================] - 1s 7ms/step - loss: 0.0021 - accuracy: 1.0000\n",
      "Epoch 47/50\n",
      "180/180 [==============================] - 1s 7ms/step - loss: 0.0041 - accuracy: 0.9989\n",
      "Epoch 48/50\n",
      "180/180 [==============================] - 1s 7ms/step - loss: 0.0035 - accuracy: 0.9989\n",
      "Epoch 49/50\n",
      "180/180 [==============================] - 1s 7ms/step - loss: 0.0039 - accuracy: 0.9994\n",
      "Epoch 50/50\n",
      "180/180 [==============================] - 1s 7ms/step - loss: 0.0033 - accuracy: 0.9983\n"
     ]
    },
    {
     "data": {
      "text/plain": [
       "<keras.callbacks.History at 0x29ff7fa00>"
      ]
     },
     "execution_count": 3,
     "metadata": {},
     "output_type": "execute_result"
    }
   ],
   "source": [
    "model = Sequential()\n",
    "model.add(Dense(12, activation='relu', input_dim=64))\n",
    "model.add(Dense(8, activation='relu'))\n",
    "model.add(Dense(1, activation='sigmoid'))\n",
    "\n",
    "model.compile(optimizer='rmsprop',\n",
    "              loss='binary_crossentropy',\n",
    "              metrics=['accuracy'])\n",
    "\n",
    "model.fit(X, y_binary, epochs=50, batch_size=10)"
   ]
  },
  {
   "cell_type": "markdown",
   "metadata": {},
   "source": [
    "### Things to know:\n",
    "\n",
    "- The data and labels in `fit()` need to be numpy arrays, not `pandas` dfs.\n",
    "- Scaling your data will have a large impact on your model.\n",
    "   > For our traditional input features, we would use a scaler object. For images, as long as the minimum value is 0, we can simply divide through by the maximum pixel intensity."
   ]
  },
  {
   "cell_type": "markdown",
   "metadata": {},
   "source": [
    "#### Getting data ready for modeling\n",
    "**Preprocessing**:\n",
    "\n",
    "- use train_test_split to create X_train, y_train, X_test, and y_test\n",
    "- Split training data into pure_train and validation sets.\n",
    "- Scale the pixel intensity to a value between 0 and 1."
   ]
  },
  {
   "cell_type": "markdown",
   "metadata": {},
   "source": [
    "Scaling our input variables will help speed up our neural network.\n",
    "\n",
    "Since our minimum intensity is 0, we can normalize the inputs by dividing each value by the max value (16)."
   ]
  },
  {
   "cell_type": "code",
   "execution_count": 7,
   "metadata": {},
   "outputs": [],
   "source": [
    "X_train, X_test, y_train, y_test =\\\n",
    "    train_test_split(X, y_binary, random_state=42, test_size=0.2)\n",
    "\n",
    "X_pure_train, X_val, y_pure_train, y_val =\\\n",
    "    train_test_split(X_train, y_train, random_state=42, test_size=0.2)\n",
    "\n",
    "X_pure_train, X_val, X_test = X_pure_train/16, X_val/16, X_test/16"
   ]
  },
  {
   "cell_type": "markdown",
   "metadata": {},
   "source": [
    "For activation, let's start with the familiar sigmoid function, and see how it performs."
   ]
  },
  {
   "cell_type": "code",
   "execution_count": 8,
   "metadata": {},
   "outputs": [
    {
     "name": "stdout",
     "output_type": "stream",
     "text": [
      "Epoch 1/10\n"
     ]
    },
    {
     "name": "stderr",
     "output_type": "stream",
     "text": [
      "2023-07-31 11:20:52.256895: I tensorflow/core/grappler/optimizers/custom_graph_optimizer_registry.cc:113] Plugin optimizer for device_type GPU is enabled.\n"
     ]
    },
    {
     "name": "stdout",
     "output_type": "stream",
     "text": [
      "12/12 [==============================] - 1s 10ms/step - loss: 0.7338 - accuracy: 0.4961\n",
      "Epoch 2/10\n",
      "12/12 [==============================] - 0s 6ms/step - loss: 0.7255 - accuracy: 0.4961\n",
      "Epoch 3/10\n",
      "12/12 [==============================] - 0s 6ms/step - loss: 0.7190 - accuracy: 0.4961\n",
      "Epoch 4/10\n",
      "12/12 [==============================] - 0s 6ms/step - loss: 0.7138 - accuracy: 0.4961\n",
      "Epoch 5/10\n",
      "12/12 [==============================] - 0s 6ms/step - loss: 0.7097 - accuracy: 0.4961\n",
      "Epoch 6/10\n",
      "12/12 [==============================] - 0s 6ms/step - loss: 0.7065 - accuracy: 0.4961\n",
      "Epoch 7/10\n",
      "12/12 [==============================] - 0s 7ms/step - loss: 0.7040 - accuracy: 0.4961\n",
      "Epoch 8/10\n",
      "12/12 [==============================] - 0s 6ms/step - loss: 0.7018 - accuracy: 0.4961\n",
      "Epoch 9/10\n",
      "12/12 [==============================] - 0s 6ms/step - loss: 0.7002 - accuracy: 0.4961\n",
      "Epoch 10/10\n",
      "12/12 [==============================] - 0s 6ms/step - loss: 0.6990 - accuracy: 0.4961\n"
     ]
    }
   ],
   "source": [
    "model = Sequential()\n",
    "# We will start with our trusty sigmoid function.\n",
    "# What does input dimension correspond to?\n",
    "model.add(Dense(12, activation='sigmoid', input_dim=64))\n",
    "model.add(Dense(8, activation='sigmoid'))\n",
    "model.add(Dense(1, activation='sigmoid'))\n",
    "\n",
    "model.compile(optimizer='SGD' ,\n",
    "              # We use binary_crossentropy for a binary loss function\n",
    "              loss='binary_crossentropy',\n",
    "              metrics=['accuracy'])\n",
    "\n",
    "# Assign the variable history to store the results,\n",
    "# and set verbose=1 so we can see the output. To see\n",
    "# only the metrics at the end of each epoch, set verbose=2.\n",
    "results = model.fit(X_pure_train, y_pure_train, epochs=10, batch_size=100, verbose=1)"
   ]
  },
  {
   "cell_type": "markdown",
   "metadata": {},
   "source": [
    "We can access the history of our model via `results.history`.\n",
    "Use __dict__ to take a tour."
   ]
  },
  {
   "cell_type": "code",
   "execution_count": 9,
   "metadata": {},
   "outputs": [
    {
     "data": {
      "text/plain": [
       "{'validation_data': None,\n",
       " 'model': <keras.engine.sequential.Sequential at 0x29f308fa0>,\n",
       " '_chief_worker_only': None,\n",
       " '_supports_tf_logs': False,\n",
       " 'history': {'loss': [0.733762800693512,\n",
       "   0.7255496978759766,\n",
       "   0.7189763188362122,\n",
       "   0.7138455510139465,\n",
       "   0.709678053855896,\n",
       "   0.7065340876579285,\n",
       "   0.7040150165557861,\n",
       "   0.7018152475357056,\n",
       "   0.7002318501472473,\n",
       "   0.6989568471908569],\n",
       "  'accuracy': [0.4960835576057434,\n",
       "   0.4960835576057434,\n",
       "   0.4960835576057434,\n",
       "   0.4960835576057434,\n",
       "   0.4960835576057434,\n",
       "   0.4960835576057434,\n",
       "   0.4960835576057434,\n",
       "   0.4960835576057434,\n",
       "   0.4960835576057434,\n",
       "   0.4960835576057434]},\n",
       " 'params': {'verbose': 1, 'epochs': 10, 'steps': 12},\n",
       " 'epoch': [0, 1, 2, 3, 4, 5, 6, 7, 8, 9]}"
      ]
     },
     "execution_count": 9,
     "metadata": {},
     "output_type": "execute_result"
    }
   ],
   "source": [
    "results.__dict__"
   ]
  },
  {
   "cell_type": "code",
   "execution_count": 10,
   "metadata": {},
   "outputs": [
    {
     "data": {
      "image/png": "[encoded data removed]",
      "text/plain": [
       "<Figure size 1000x500 with 2 Axes>"
      ]
     },
     "metadata": {},
     "output_type": "display_data"
    }
   ],
   "source": [
    "sigmoid_loss = results.history['loss']\n",
    "sigmoid_accuracy = results.history['accuracy']\n",
    "\n",
    "fig, (ax1, ax2) = plt.subplots(1, 2, figsize=(10, 5))\n",
    "sns.lineplot(x=results.epoch, y=sigmoid_loss, ax=ax1, label='loss')\n",
    "sns.lineplot(x=results.epoch, y=sigmoid_accuracy, ax=ax2, label='accuracy');"
   ]
  },
  {
   "cell_type": "markdown",
   "metadata": {},
   "source": [
    "We have two plots above both relating to the quality of our model.  The left-hand plot is our loss. It uses the probabilities associated with our predictions to judge how well our prediction fits reality. We want it to decrease as far as possible.\n",
    "\n",
    "The accuracy judges how well the predictions are after applying the threshold at the output layer.  We want accuracy to increase."
   ]
  },
  {
   "cell_type": "markdown",
   "metadata": {},
   "source": [
    "If we look at our loss, it is still decreasing. That is a signal that our model is **still learning**. If our model is still learning, we can allow it to get better by turning a few dials.\n",
    "\n",
    "Let's:\n",
    "- increase the number of epochs;\n",
    "- change sigmoid activation in the hidden layers to ReLU; and\n",
    "- decrease the batch size."
   ]
  },
  {
   "cell_type": "code",
   "execution_count": 11,
   "metadata": {},
   "outputs": [
    {
     "data": {
      "text/plain": [
       "1149"
      ]
     },
     "execution_count": 11,
     "metadata": {},
     "output_type": "execute_result"
    }
   ],
   "source": [
    "X_pure_train.shape[0]"
   ]
  },
  {
   "cell_type": "code",
   "execution_count": 12,
   "metadata": {},
   "outputs": [
    {
     "name": "stdout",
     "output_type": "stream",
     "text": [
      "Epoch 1/100\n",
      "10/36 [=======>......................] - ETA: 0s - loss: 0.7514 - accuracy: 0.4656"
     ]
    },
    {
     "name": "stderr",
     "output_type": "stream",
     "text": [
      "2023-07-31 11:21:13.081780: I tensorflow/core/grappler/optimizers/custom_graph_optimizer_registry.cc:113] Plugin optimizer for device_type GPU is enabled.\n"
     ]
    },
    {
     "name": "stdout",
     "output_type": "stream",
     "text": [
      "36/36 [==============================] - 0s 7ms/step - loss: 0.7033 - accuracy: 0.4935\n",
      "Epoch 2/100\n",
      "36/36 [==============================] - 0s 6ms/step - loss: 0.6522 - accuracy: 0.6284\n",
      "Epoch 3/100\n",
      "36/36 [==============================] - 0s 6ms/step - loss: 0.6277 - accuracy: 0.6980\n",
      "Epoch 4/100\n",
      "36/36 [==============================] - 0s 6ms/step - loss: 0.6047 - accuracy: 0.7241\n",
      "Epoch 5/100\n",
      "36/36 [==============================] - 0s 6ms/step - loss: 0.5803 - accuracy: 0.7424\n",
      "Epoch 6/100\n",
      "36/36 [==============================] - 0s 6ms/step - loss: 0.5550 - accuracy: 0.7676\n",
      "Epoch 7/100\n",
      "36/36 [==============================] - 0s 6ms/step - loss: 0.5295 - accuracy: 0.7763\n",
      "Epoch 8/100\n",
      "36/36 [==============================] - 0s 6ms/step - loss: 0.5037 - accuracy: 0.7894\n",
      "Epoch 9/100\n",
      "36/36 [==============================] - 0s 6ms/step - loss: 0.4797 - accuracy: 0.7937\n",
      "Epoch 10/100\n",
      "36/36 [==============================] - 0s 6ms/step - loss: 0.4564 - accuracy: 0.8077\n",
      "Epoch 11/100\n",
      "36/36 [==============================] - 0s 6ms/step - loss: 0.4346 - accuracy: 0.8207\n",
      "Epoch 12/100\n",
      "36/36 [==============================] - 0s 6ms/step - loss: 0.4147 - accuracy: 0.8285\n",
      "Epoch 13/100\n",
      "36/36 [==============================] - 0s 6ms/step - loss: 0.3963 - accuracy: 0.8416\n",
      "Epoch 14/100\n",
      "36/36 [==============================] - 0s 6ms/step - loss: 0.3800 - accuracy: 0.8460\n",
      "Epoch 15/100\n",
      "36/36 [==============================] - 0s 6ms/step - loss: 0.3650 - accuracy: 0.8529\n",
      "Epoch 16/100\n",
      "36/36 [==============================] - 0s 6ms/step - loss: 0.3513 - accuracy: 0.8573\n",
      "Epoch 17/100\n",
      "36/36 [==============================] - 0s 6ms/step - loss: 0.3390 - accuracy: 0.8625\n",
      "Epoch 18/100\n",
      "36/36 [==============================] - 0s 6ms/step - loss: 0.3269 - accuracy: 0.8721\n",
      "Epoch 19/100\n",
      "36/36 [==============================] - 0s 6ms/step - loss: 0.3183 - accuracy: 0.8738\n",
      "Epoch 20/100\n",
      "36/36 [==============================] - 0s 6ms/step - loss: 0.3089 - accuracy: 0.8703\n",
      "Epoch 21/100\n",
      "36/36 [==============================] - 0s 7ms/step - loss: 0.3002 - accuracy: 0.8764\n",
      "Epoch 22/100\n",
      "36/36 [==============================] - 0s 6ms/step - loss: 0.2925 - accuracy: 0.8799\n",
      "Epoch 23/100\n",
      "36/36 [==============================] - 0s 6ms/step - loss: 0.2856 - accuracy: 0.8842\n",
      "Epoch 24/100\n",
      "36/36 [==============================] - 0s 6ms/step - loss: 0.2786 - accuracy: 0.8886\n",
      "Epoch 25/100\n",
      "36/36 [==============================] - 0s 6ms/step - loss: 0.2726 - accuracy: 0.8921\n",
      "Epoch 26/100\n",
      "36/36 [==============================] - 0s 6ms/step - loss: 0.2661 - accuracy: 0.8903\n",
      "Epoch 27/100\n",
      "36/36 [==============================] - 0s 7ms/step - loss: 0.2603 - accuracy: 0.8938\n",
      "Epoch 28/100\n",
      "36/36 [==============================] - 0s 7ms/step - loss: 0.2558 - accuracy: 0.8921\n",
      "Epoch 29/100\n",
      "36/36 [==============================] - 0s 7ms/step - loss: 0.2503 - accuracy: 0.8990\n",
      "Epoch 30/100\n",
      "36/36 [==============================] - 0s 6ms/step - loss: 0.2463 - accuracy: 0.8973\n",
      "Epoch 31/100\n",
      "36/36 [==============================] - 0s 6ms/step - loss: 0.2421 - accuracy: 0.8990\n",
      "Epoch 32/100\n",
      "36/36 [==============================] - 0s 6ms/step - loss: 0.2365 - accuracy: 0.9025\n",
      "Epoch 33/100\n",
      "36/36 [==============================] - 0s 6ms/step - loss: 0.2330 - accuracy: 0.9008\n",
      "Epoch 34/100\n",
      "36/36 [==============================] - 0s 6ms/step - loss: 0.2302 - accuracy: 0.9034\n",
      "Epoch 35/100\n",
      "36/36 [==============================] - 0s 6ms/step - loss: 0.2269 - accuracy: 0.9060\n",
      "Epoch 36/100\n",
      "36/36 [==============================] - 0s 6ms/step - loss: 0.2234 - accuracy: 0.9069\n",
      "Epoch 37/100\n",
      "36/36 [==============================] - 0s 7ms/step - loss: 0.2200 - accuracy: 0.9086\n",
      "Epoch 38/100\n",
      "36/36 [==============================] - 0s 7ms/step - loss: 0.2155 - accuracy: 0.9121\n",
      "Epoch 39/100\n",
      "36/36 [==============================] - 0s 7ms/step - loss: 0.2138 - accuracy: 0.9086\n",
      "Epoch 40/100\n",
      "36/36 [==============================] - 0s 7ms/step - loss: 0.2094 - accuracy: 0.9112\n",
      "Epoch 41/100\n",
      "36/36 [==============================] - 0s 6ms/step - loss: 0.2059 - accuracy: 0.9104\n",
      "Epoch 42/100\n",
      "36/36 [==============================] - 0s 6ms/step - loss: 0.2038 - accuracy: 0.9147\n",
      "Epoch 43/100\n",
      "36/36 [==============================] - 0s 6ms/step - loss: 0.2008 - accuracy: 0.9164\n",
      "Epoch 44/100\n",
      "36/36 [==============================] - 0s 5ms/step - loss: 0.1978 - accuracy: 0.9138\n",
      "Epoch 45/100\n",
      "36/36 [==============================] - 0s 5ms/step - loss: 0.1945 - accuracy: 0.9173\n",
      "Epoch 46/100\n",
      "36/36 [==============================] - 0s 6ms/step - loss: 0.1920 - accuracy: 0.9182\n",
      "Epoch 47/100\n",
      "36/36 [==============================] - 0s 6ms/step - loss: 0.1896 - accuracy: 0.9182\n",
      "Epoch 48/100\n",
      "36/36 [==============================] - 0s 6ms/step - loss: 0.1850 - accuracy: 0.9191\n",
      "Epoch 49/100\n",
      "36/36 [==============================] - 0s 6ms/step - loss: 0.1845 - accuracy: 0.9217\n",
      "Epoch 50/100\n",
      "36/36 [==============================] - 0s 6ms/step - loss: 0.1819 - accuracy: 0.9191\n",
      "Epoch 51/100\n",
      "36/36 [==============================] - 0s 6ms/step - loss: 0.1798 - accuracy: 0.9234\n",
      "Epoch 52/100\n",
      "36/36 [==============================] - 0s 6ms/step - loss: 0.1781 - accuracy: 0.9252\n",
      "Epoch 53/100\n",
      "36/36 [==============================] - 0s 6ms/step - loss: 0.1764 - accuracy: 0.9260\n",
      "Epoch 54/100\n",
      "36/36 [==============================] - 0s 6ms/step - loss: 0.1736 - accuracy: 0.9286\n",
      "Epoch 55/100\n",
      "36/36 [==============================] - 0s 7ms/step - loss: 0.1711 - accuracy: 0.9243\n",
      "Epoch 56/100\n",
      "36/36 [==============================] - 0s 7ms/step - loss: 0.1703 - accuracy: 0.9252\n",
      "Epoch 57/100\n",
      "36/36 [==============================] - 0s 7ms/step - loss: 0.1673 - accuracy: 0.9330\n",
      "Epoch 58/100\n",
      "36/36 [==============================] - 0s 6ms/step - loss: 0.1659 - accuracy: 0.9330\n",
      "Epoch 59/100\n",
      "36/36 [==============================] - 0s 7ms/step - loss: 0.1643 - accuracy: 0.9304\n",
      "Epoch 60/100\n",
      "36/36 [==============================] - 0s 6ms/step - loss: 0.1628 - accuracy: 0.9312\n",
      "Epoch 61/100\n",
      "36/36 [==============================] - 0s 6ms/step - loss: 0.1608 - accuracy: 0.9382\n",
      "Epoch 62/100\n",
      "36/36 [==============================] - 0s 6ms/step - loss: 0.1581 - accuracy: 0.9356\n",
      "Epoch 63/100\n",
      "36/36 [==============================] - 0s 6ms/step - loss: 0.1569 - accuracy: 0.9365\n",
      "Epoch 64/100\n",
      "36/36 [==============================] - 0s 6ms/step - loss: 0.1552 - accuracy: 0.9373\n",
      "Epoch 65/100\n",
      "36/36 [==============================] - 0s 6ms/step - loss: 0.1537 - accuracy: 0.9373\n",
      "Epoch 66/100\n",
      "36/36 [==============================] - 0s 6ms/step - loss: 0.1518 - accuracy: 0.9382\n",
      "Epoch 67/100\n",
      "36/36 [==============================] - 0s 6ms/step - loss: 0.1503 - accuracy: 0.9408\n",
      "Epoch 68/100\n",
      "36/36 [==============================] - 0s 6ms/step - loss: 0.1491 - accuracy: 0.9408\n",
      "Epoch 69/100\n",
      "36/36 [==============================] - 0s 6ms/step - loss: 0.1483 - accuracy: 0.9391\n",
      "Epoch 70/100\n",
      "36/36 [==============================] - 0s 6ms/step - loss: 0.1465 - accuracy: 0.9391\n",
      "Epoch 71/100\n",
      "36/36 [==============================] - 0s 6ms/step - loss: 0.1450 - accuracy: 0.9408\n",
      "Epoch 72/100\n",
      "36/36 [==============================] - 0s 6ms/step - loss: 0.1445 - accuracy: 0.9434\n",
      "Epoch 73/100\n",
      "36/36 [==============================] - 0s 6ms/step - loss: 0.1425 - accuracy: 0.9434\n",
      "Epoch 74/100\n",
      "36/36 [==============================] - 0s 6ms/step - loss: 0.1408 - accuracy: 0.9452\n",
      "Epoch 75/100\n",
      "36/36 [==============================] - 0s 6ms/step - loss: 0.1395 - accuracy: 0.9452\n",
      "Epoch 76/100\n",
      "36/36 [==============================] - 0s 6ms/step - loss: 0.1375 - accuracy: 0.9426\n",
      "Epoch 77/100\n",
      "36/36 [==============================] - 0s 6ms/step - loss: 0.1366 - accuracy: 0.9460\n",
      "Epoch 78/100\n",
      "36/36 [==============================] - 0s 6ms/step - loss: 0.1355 - accuracy: 0.9478\n",
      "Epoch 79/100\n",
      "36/36 [==============================] - 0s 6ms/step - loss: 0.1348 - accuracy: 0.9452\n",
      "Epoch 80/100\n",
      "36/36 [==============================] - 0s 6ms/step - loss: 0.1331 - accuracy: 0.9443\n",
      "Epoch 81/100\n",
      "36/36 [==============================] - 0s 6ms/step - loss: 0.1316 - accuracy: 0.9495\n",
      "Epoch 82/100\n",
      "36/36 [==============================] - 0s 6ms/step - loss: 0.1307 - accuracy: 0.9469\n",
      "Epoch 83/100\n",
      "36/36 [==============================] - 0s 6ms/step - loss: 0.1296 - accuracy: 0.9469\n",
      "Epoch 84/100\n",
      "36/36 [==============================] - 0s 6ms/step - loss: 0.1284 - accuracy: 0.9521\n",
      "Epoch 85/100\n",
      "36/36 [==============================] - 0s 6ms/step - loss: 0.1276 - accuracy: 0.9539\n",
      "Epoch 86/100\n",
      "36/36 [==============================] - 0s 6ms/step - loss: 0.1266 - accuracy: 0.9504\n",
      "Epoch 87/100\n",
      "36/36 [==============================] - 0s 6ms/step - loss: 0.1251 - accuracy: 0.9513\n",
      "Epoch 88/100\n",
      "36/36 [==============================] - 0s 6ms/step - loss: 0.1231 - accuracy: 0.9513\n",
      "Epoch 89/100\n",
      "36/36 [==============================] - 0s 6ms/step - loss: 0.1231 - accuracy: 0.9478\n",
      "Epoch 90/100\n",
      "36/36 [==============================] - 0s 6ms/step - loss: 0.1229 - accuracy: 0.9521\n",
      "Epoch 91/100\n",
      "36/36 [==============================] - 0s 6ms/step - loss: 0.1209 - accuracy: 0.9547\n",
      "Epoch 92/100\n",
      "36/36 [==============================] - 0s 6ms/step - loss: 0.1195 - accuracy: 0.9530\n",
      "Epoch 93/100\n",
      "36/36 [==============================] - 0s 6ms/step - loss: 0.1185 - accuracy: 0.9530\n",
      "Epoch 94/100\n",
      "36/36 [==============================] - 0s 6ms/step - loss: 0.1173 - accuracy: 0.9582\n",
      "Epoch 95/100\n",
      "36/36 [==============================] - 0s 6ms/step - loss: 0.1166 - accuracy: 0.9539\n",
      "Epoch 96/100\n",
      "36/36 [==============================] - 0s 6ms/step - loss: 0.1155 - accuracy: 0.9539\n",
      "Epoch 97/100\n",
      "36/36 [==============================] - 0s 6ms/step - loss: 0.1152 - accuracy: 0.9600\n",
      "Epoch 98/100\n",
      "36/36 [==============================] - 0s 6ms/step - loss: 0.1142 - accuracy: 0.9547\n",
      "Epoch 99/100\n",
      "36/36 [==============================] - 0s 6ms/step - loss: 0.1133 - accuracy: 0.9547\n",
      "Epoch 100/100\n",
      "36/36 [==============================] - 0s 6ms/step - loss: 0.1104 - accuracy: 0.9565\n"
     ]
    }
   ],
   "source": [
    "model = Sequential()\n",
    "model.add(Dense(12, activation='relu', input_dim=64))\n",
    "model.add(Dense(8, activation='relu'))\n",
    "model.add(Dense(1, activation='sigmoid'))\n",
    "\n",
    "model.compile(optimizer='SGD',\n",
    "              loss='binary_crossentropy',\n",
    "              metrics=['accuracy'])\n",
    "\n",
    "# Assign the variable history to store the results,\n",
    "# and set verbose=1 so we can see the output.\n",
    "results = model.fit(X_pure_train, y_pure_train, epochs=100, batch_size=None, verbose=1)"
   ]
  },
  {
   "cell_type": "code",
   "execution_count": 13,
   "metadata": {},
   "outputs": [
    {
     "data": {
      "image/png": "[encoded data removed]",
      "text/plain": [
       "<Figure size 1000x500 with 2 Axes>"
      ]
     },
     "metadata": {},
     "output_type": "display_data"
    }
   ],
   "source": [
    "sigmoid_loss = results.history['loss']\n",
    "sigmoid_accuracy = results.history['accuracy']\n",
    "\n",
    "fig, (ax1, ax2) = plt.subplots(1, 2, figsize=(10, 5))\n",
    "sns.lineplot(x=results.epoch, y=sigmoid_loss, ax=ax1, label='loss')\n",
    "sns.lineplot(x=results.epoch, y=sigmoid_accuracy, ax=ax2, label='accuracy');"
   ]
  },
  {
   "cell_type": "markdown",
   "metadata": {},
   "source": [
    "If we increase the learning rate to a very high number, we see that our model overshoots the minimum, and starts bouncing all around."
   ]
  },
  {
   "cell_type": "code",
   "execution_count": 14,
   "metadata": {},
   "outputs": [
    {
     "name": "stdout",
     "output_type": "stream",
     "text": [
      "Epoch 1/30\n",
      " 10/115 [=>............................] - ETA: 0s - loss: 3.3439 - accuracy: 0.4500 "
     ]
    },
    {
     "name": "stderr",
     "output_type": "stream",
     "text": [
      "2023-07-31 11:21:53.196518: I tensorflow/core/grappler/optimizers/custom_graph_optimizer_registry.cc:113] Plugin optimizer for device_type GPU is enabled.\n"
     ]
    },
    {
     "name": "stdout",
     "output_type": "stream",
     "text": [
      "115/115 [==============================] - 1s 7ms/step - loss: 1.3072 - accuracy: 0.4648\n",
      "Epoch 2/30\n",
      "115/115 [==============================] - 1s 6ms/step - loss: 1.0808 - accuracy: 0.4691\n",
      "Epoch 3/30\n",
      "115/115 [==============================] - 1s 6ms/step - loss: 0.9743 - accuracy: 0.5057\n",
      "Epoch 4/30\n",
      "115/115 [==============================] - 1s 6ms/step - loss: 0.9710 - accuracy: 0.5022\n",
      "Epoch 5/30\n",
      "115/115 [==============================] - 1s 6ms/step - loss: 1.0684 - accuracy: 0.4813\n",
      "Epoch 6/30\n",
      "115/115 [==============================] - 1s 6ms/step - loss: 0.9724 - accuracy: 0.5109\n",
      "Epoch 7/30\n",
      "115/115 [==============================] - 1s 6ms/step - loss: 1.0296 - accuracy: 0.4900\n",
      "Epoch 8/30\n",
      "115/115 [==============================] - 1s 6ms/step - loss: 0.9315 - accuracy: 0.5091\n",
      "Epoch 9/30\n",
      "115/115 [==============================] - 1s 6ms/step - loss: 1.0961 - accuracy: 0.4691\n",
      "Epoch 10/30\n",
      "115/115 [==============================] - 1s 6ms/step - loss: 1.1465 - accuracy: 0.4648\n",
      "Epoch 11/30\n",
      "115/115 [==============================] - 1s 6ms/step - loss: 0.9917 - accuracy: 0.4970\n",
      "Epoch 12/30\n",
      "115/115 [==============================] - 1s 6ms/step - loss: 1.0020 - accuracy: 0.5039\n",
      "Epoch 13/30\n",
      "115/115 [==============================] - 1s 6ms/step - loss: 1.0977 - accuracy: 0.4769\n",
      "Epoch 14/30\n",
      "115/115 [==============================] - 1s 6ms/step - loss: 1.0192 - accuracy: 0.4839\n",
      "Epoch 15/30\n",
      "115/115 [==============================] - 1s 6ms/step - loss: 1.0219 - accuracy: 0.4935\n",
      "Epoch 16/30\n",
      "115/115 [==============================] - 1s 6ms/step - loss: 1.0181 - accuracy: 0.4943\n",
      "Epoch 17/30\n",
      "115/115 [==============================] - 1s 6ms/step - loss: 0.9951 - accuracy: 0.5030\n",
      "Epoch 18/30\n",
      "115/115 [==============================] - 1s 6ms/step - loss: 0.9087 - accuracy: 0.5187\n",
      "Epoch 19/30\n",
      "115/115 [==============================] - 1s 6ms/step - loss: 1.0713 - accuracy: 0.4795\n",
      "Epoch 20/30\n",
      "115/115 [==============================] - 1s 6ms/step - loss: 0.9668 - accuracy: 0.5074\n",
      "Epoch 21/30\n",
      "115/115 [==============================] - 1s 6ms/step - loss: 1.0253 - accuracy: 0.5074\n",
      "Epoch 22/30\n",
      "115/115 [==============================] - 1s 6ms/step - loss: 1.0565 - accuracy: 0.4996\n",
      "Epoch 23/30\n",
      "115/115 [==============================] - 1s 6ms/step - loss: 0.9336 - accuracy: 0.5196\n",
      "Epoch 24/30\n",
      "115/115 [==============================] - 1s 6ms/step - loss: 0.9982 - accuracy: 0.5231\n",
      "Epoch 25/30\n",
      "115/115 [==============================] - 1s 6ms/step - loss: 1.0320 - accuracy: 0.4917\n",
      "Epoch 26/30\n",
      "115/115 [==============================] - 1s 6ms/step - loss: 1.0509 - accuracy: 0.4883\n",
      "Epoch 27/30\n",
      "115/115 [==============================] - 1s 6ms/step - loss: 0.9344 - accuracy: 0.5152\n",
      "Epoch 28/30\n",
      "115/115 [==============================] - 1s 6ms/step - loss: 1.0131 - accuracy: 0.5057\n",
      "Epoch 29/30\n",
      "115/115 [==============================] - 1s 6ms/step - loss: 1.0399 - accuracy: 0.4856\n",
      "Epoch 30/30\n",
      "115/115 [==============================] - 1s 6ms/step - loss: 1.0397 - accuracy: 0.4978\n"
     ]
    },
    {
     "data": {
      "image/png": "[encoded data removed]",
      "text/plain": [
       "<Figure size 1000x500 with 2 Axes>"
      ]
     },
     "metadata": {},
     "output_type": "display_data"
    }
   ],
   "source": [
    "model = Sequential()\n",
    "\n",
    "sgd = SGD(learning_rate=9) # this is very high. We usually try 0.1 first, then 0.01 and 1.\n",
    "model.add(Dense(12, activation='relu', input_dim=64))\n",
    "model.add(Dense(8, activation='relu'))\n",
    "model.add(Dense(1, activation='sigmoid'))\n",
    "\n",
    "model.compile(optimizer=sgd,\n",
    "              loss='binary_crossentropy',\n",
    "              metrics=['accuracy'])\n",
    "\n",
    "results = model.fit(X_pure_train, y_pure_train,\n",
    "                    epochs=30, batch_size=10, verbose=1)\n",
    "\n",
    "relu_loss = results.history['loss']\n",
    "relu_accuracy = results.history['accuracy']\n",
    "\n",
    "fig, (ax1, ax2) = plt.subplots(1, 2, figsize=(10, 5))\n",
    "sns.lineplot(x=results.epoch, y=relu_loss, ax=ax1, label='loss')\n",
    "sns.lineplot(x=results.epoch, y=relu_accuracy, ax=ax2, label='accuracy');"
   ]
  },
  {
   "cell_type": "markdown",
   "metadata": {},
   "source": [
    "### Exercise\n",
    "\n",
    "We have been looking only at our training set. Let's add in our validation set to the picture. Check the docstring for the `.fit()` method and add in our validation data."
   ]
  },
  {
   "cell_type": "code",
   "execution_count": 16,
   "metadata": {},
   "outputs": [
    {
     "name": "stdout",
     "output_type": "stream",
     "text": [
      "Epoch 1/30\n"
     ]
    },
    {
     "name": "stderr",
     "output_type": "stream",
     "text": [
      "2023-07-31 11:33:34.896166: I tensorflow/core/grappler/optimizers/custom_graph_optimizer_registry.cc:113] Plugin optimizer for device_type GPU is enabled.\n"
     ]
    },
    {
     "name": "stdout",
     "output_type": "stream",
     "text": [
      "115/115 [==============================] - ETA: 0s - loss: 0.6417 - accuracy: 0.6258"
     ]
    },
    {
     "name": "stderr",
     "output_type": "stream",
     "text": [
      "2023-07-31 11:33:36.588632: I tensorflow/core/grappler/optimizers/custom_graph_optimizer_registry.cc:113] Plugin optimizer for device_type GPU is enabled.\n"
     ]
    },
    {
     "name": "stdout",
     "output_type": "stream",
     "text": [
      "115/115 [==============================] - 2s 11ms/step - loss: 0.6417 - accuracy: 0.6258 - val_loss: 0.5607 - val_accuracy: 0.7465\n",
      "Epoch 2/30\n",
      "115/115 [==============================] - 1s 8ms/step - loss: 0.4272 - accuracy: 0.8303 - val_loss: 0.3931 - val_accuracy: 0.8264\n",
      "Epoch 3/30\n",
      "115/115 [==============================] - 1s 8ms/step - loss: 0.3039 - accuracy: 0.8651 - val_loss: 0.2771 - val_accuracy: 0.8993\n",
      "Epoch 4/30\n",
      "115/115 [==============================] - 1s 8ms/step - loss: 0.2473 - accuracy: 0.8990 - val_loss: 0.2398 - val_accuracy: 0.8924\n",
      "Epoch 5/30\n",
      "115/115 [==============================] - 1s 8ms/step - loss: 0.2136 - accuracy: 0.9104 - val_loss: 0.2326 - val_accuracy: 0.8924\n",
      "Epoch 6/30\n",
      "115/115 [==============================] - 1s 8ms/step - loss: 0.1954 - accuracy: 0.9104 - val_loss: 0.2055 - val_accuracy: 0.9271\n",
      "Epoch 7/30\n",
      "115/115 [==============================] - 1s 8ms/step - loss: 0.1795 - accuracy: 0.9173 - val_loss: 0.1785 - val_accuracy: 0.9306\n",
      "Epoch 8/30\n",
      "115/115 [==============================] - 1s 8ms/step - loss: 0.1576 - accuracy: 0.9347 - val_loss: 0.1707 - val_accuracy: 0.9306\n",
      "Epoch 9/30\n",
      "115/115 [==============================] - 1s 8ms/step - loss: 0.1506 - accuracy: 0.9365 - val_loss: 0.1738 - val_accuracy: 0.9340\n",
      "Epoch 10/30\n",
      "115/115 [==============================] - 1s 8ms/step - loss: 0.1324 - accuracy: 0.9478 - val_loss: 0.1600 - val_accuracy: 0.9375\n",
      "Epoch 11/30\n",
      "115/115 [==============================] - 1s 8ms/step - loss: 0.1191 - accuracy: 0.9469 - val_loss: 0.1335 - val_accuracy: 0.9549\n",
      "Epoch 12/30\n",
      "115/115 [==============================] - 1s 8ms/step - loss: 0.1099 - accuracy: 0.9574 - val_loss: 0.1208 - val_accuracy: 0.9583\n",
      "Epoch 13/30\n",
      "115/115 [==============================] - 1s 8ms/step - loss: 0.1065 - accuracy: 0.9582 - val_loss: 0.1236 - val_accuracy: 0.9583\n",
      "Epoch 14/30\n",
      "115/115 [==============================] - 1s 8ms/step - loss: 0.0912 - accuracy: 0.9634 - val_loss: 0.1217 - val_accuracy: 0.9688\n",
      "Epoch 15/30\n",
      "115/115 [==============================] - 1s 8ms/step - loss: 0.0840 - accuracy: 0.9626 - val_loss: 0.1021 - val_accuracy: 0.9583\n",
      "Epoch 16/30\n",
      "115/115 [==============================] - 1s 8ms/step - loss: 0.0780 - accuracy: 0.9669 - val_loss: 0.1352 - val_accuracy: 0.9549\n",
      "Epoch 17/30\n",
      "115/115 [==============================] - 1s 7ms/step - loss: 0.0745 - accuracy: 0.9713 - val_loss: 0.0932 - val_accuracy: 0.9618\n",
      "Epoch 18/30\n",
      "115/115 [==============================] - 1s 7ms/step - loss: 0.0658 - accuracy: 0.9730 - val_loss: 0.0904 - val_accuracy: 0.9583\n",
      "Epoch 19/30\n",
      "115/115 [==============================] - 1s 8ms/step - loss: 0.0650 - accuracy: 0.9739 - val_loss: 0.1098 - val_accuracy: 0.9583\n",
      "Epoch 20/30\n",
      "115/115 [==============================] - 1s 8ms/step - loss: 0.0594 - accuracy: 0.9756 - val_loss: 0.0836 - val_accuracy: 0.9653\n",
      "Epoch 21/30\n",
      "115/115 [==============================] - 1s 8ms/step - loss: 0.0559 - accuracy: 0.9782 - val_loss: 0.0745 - val_accuracy: 0.9618\n",
      "Epoch 22/30\n",
      "115/115 [==============================] - 1s 8ms/step - loss: 0.0512 - accuracy: 0.9852 - val_loss: 0.0847 - val_accuracy: 0.9618\n",
      "Epoch 23/30\n",
      "115/115 [==============================] - 1s 8ms/step - loss: 0.0492 - accuracy: 0.9835 - val_loss: 0.0886 - val_accuracy: 0.9653\n",
      "Epoch 24/30\n",
      "115/115 [==============================] - 1s 8ms/step - loss: 0.0474 - accuracy: 0.9835 - val_loss: 0.0750 - val_accuracy: 0.9653\n",
      "Epoch 25/30\n",
      "115/115 [==============================] - 1s 8ms/step - loss: 0.0412 - accuracy: 0.9869 - val_loss: 0.0791 - val_accuracy: 0.9653\n",
      "Epoch 26/30\n",
      "115/115 [==============================] - 1s 8ms/step - loss: 0.0377 - accuracy: 0.9869 - val_loss: 0.0897 - val_accuracy: 0.9653\n",
      "Epoch 27/30\n",
      "115/115 [==============================] - 1s 8ms/step - loss: 0.0415 - accuracy: 0.9835 - val_loss: 0.0781 - val_accuracy: 0.9688\n",
      "Epoch 28/30\n",
      "115/115 [==============================] - 1s 8ms/step - loss: 0.0400 - accuracy: 0.9852 - val_loss: 0.0622 - val_accuracy: 0.9722\n",
      "Epoch 29/30\n",
      "115/115 [==============================] - 1s 9ms/step - loss: 0.0326 - accuracy: 0.9904 - val_loss: 0.0690 - val_accuracy: 0.9653\n",
      "Epoch 30/30\n",
      "115/115 [==============================] - 1s 8ms/step - loss: 0.0358 - accuracy: 0.9861 - val_loss: 0.0695 - val_accuracy: 0.9688\n"
     ]
    },
    {
     "data": {
      "image/png": "[encoded data removed]",
      "text/plain": [
       "<Figure size 1000x500 with 2 Axes>"
      ]
     },
     "metadata": {},
     "output_type": "display_data"
    },
    {
     "data": {
      "image/png": "[encoded data removed]",
      "text/plain": [
       "<Figure size 1000x500 with 2 Axes>"
      ]
     },
     "metadata": {},
     "output_type": "display_data"
    }
   ],
   "source": [
    "model = Sequential()\n",
    "model.add(Dense(12, activation='relu', input_dim=64))\n",
    "model.add(Dense(8, activation='relu'))\n",
    "model.add(Dense(4, activation='relu'))\n",
    "model.add(Dense(1, activation='sigmoid'))\n",
    "\n",
    "model.compile(optimizer='adam',\n",
    "              loss='binary_crossentropy',\n",
    "              metrics=['accuracy'])\n",
    "\n",
    "\n",
    "## YOUR CODE HERE\n",
    "model = Sequential()\n",
    "model.add(Dense(12, activation='relu', input_dim=64))\n",
    "model.add(Dense(8, activation='relu'))\n",
    "model.add(Dense(4, activation='relu'))\n",
    "model.add(Dense(1, activation='sigmoid'))\n",
    "model.compile(optimizer='adam',\n",
    "              loss='binary_crossentropy',\n",
    "              metrics=['accuracy'])\n",
    "results = model.fit(X_pure_train, y_pure_train,\n",
    "                   validation_data=(X_val, y_val),\n",
    "                   epochs=30, batch_size=10)\n",
    "train_loss = results.history['loss']\n",
    "train_acc = results.history['accuracy']\n",
    "val_loss = results.history['val_loss']\n",
    "val_acc = results.history['val_accuracy']\n",
    "fig, (ax1, ax2) = plt.subplots(1, 2, figsize=(10, 5))\n",
    "sns.lineplot(x=results.epoch, y=train_loss, ax=ax1, label='train_loss')\n",
    "sns.lineplot(x=results.epoch, y=train_acc, ax=ax2, label='train_accuracy')\n",
    "sns.lineplot(x=results.epoch, y=val_loss, ax=ax1, label='val_loss')\n",
    "sns.lineplot(x=results.epoch, y=val_acc, ax=ax2, label='val_accuracy')\n",
    "\n",
    "train_loss = results.history['loss']\n",
    "train_acc = results.history['accuracy']\n",
    "val_loss = results.history['val_loss']\n",
    "val_acc = results.history['val_accuracy']\n",
    "\n",
    "fig, (ax1, ax2) = plt.subplots(1, 2, figsize=(10, 5))\n",
    "sns.lineplot(x=results.epoch, y=train_loss, ax=ax1, label='train_loss')\n",
    "sns.lineplot(x=results.epoch, y=train_acc, ax=ax2, label='train_accuracy')\n",
    "\n",
    "sns.lineplot(x=results.epoch, y=val_loss, ax=ax1, label='val_loss')\n",
    "sns.lineplot(x=results.epoch, y=val_acc, ax=ax2, label='val_accuracy');"
   ]
  },
  {
   "cell_type": "markdown",
   "metadata": {},
   "source": [
    "<details>\n",
    "    <summary>One answer here</summary>\n",
    "<code>model = Sequential()\n",
    "model.add(Dense(12, activation='relu', input_dim=64))\n",
    "model.add(Dense(8, activation='relu'))\n",
    "model.add(Dense(4, activation='relu'))\n",
    "model.add(Dense(1, activation='sigmoid'))\n",
    "model.compile(optimizer='adam',\n",
    "              loss='binary_crossentropy',\n",
    "              metrics=['accuracy'])\n",
    "results = model.fit(X_pure_train, y_pure_train,\n",
    "                   validation_data=(X_val, y_val),\n",
    "                   epochs=30, batch_size=10)\n",
    "train_loss = results.history['loss']\n",
    "train_acc = results.history['accuracy']\n",
    "val_loss = results.history['val_loss']\n",
    "val_acc = results.history['val_accuracy']\n",
    "fig, (ax1, ax2) = plt.subplots(1, 2, figsize=(10, 5))\n",
    "sns.lineplot(x=results.epoch, y=train_loss, ax=ax1, label='train_loss')\n",
    "sns.lineplot(x=results.epoch, y=train_acc, ax=ax2, label='train_accuracy')\n",
    "sns.lineplot(x=results.epoch, y=val_loss, ax=ax1, label='val_loss')\n",
    "sns.lineplot(x=results.epoch, y=val_acc, ax=ax2, label='val_accuracy');</code>\n",
    "</details>"
   ]
  },
  {
   "cell_type": "code",
   "execution_count": 17,
   "metadata": {},
   "outputs": [
    {
     "data": {
      "text/plain": [
       "0.96875"
      ]
     },
     "execution_count": 17,
     "metadata": {},
     "output_type": "execute_result"
    }
   ],
   "source": [
    "results.history['val_accuracy'][-1]"
   ]
  },
  {
   "cell_type": "markdown",
   "metadata": {},
   "source": [
    "## Connecting with `sklearn`\n",
    "\n",
    "The `keras.wrappers` submodule means that we can turn `keras` models into estimators that `sklearn` tools will recognize."
   ]
  },
  {
   "cell_type": "code",
   "execution_count": 18,
   "metadata": {},
   "outputs": [
    {
     "ename": "TypeError",
     "evalue": "If no scoring is specified, the estimator passed should have a 'score' method. The estimator <keras.engine.sequential.Sequential object at 0x2a81d4f40> does not.",
     "output_type": "error",
     "traceback": [
      "\u001b[0;31m---------------------------------------------------------------------------\u001b[0m",
      "\u001b[0;31mTypeError\u001b[0m                                 Traceback (most recent call last)",
      "Cell \u001b[0;32mIn[18], line 3\u001b[0m\n\u001b[1;32m      1\u001b[0m \u001b[39m# This will throw an error.\u001b[39;00m\n\u001b[0;32m----> 3\u001b[0m cross_val_score(model, X_pure_train, y_pure_train)\n",
      "File \u001b[0;32m~/anaconda3/envs/learn-env/lib/python3.9/site-packages/sklearn/model_selection/_validation.py:513\u001b[0m, in \u001b[0;36mcross_val_score\u001b[0;34m(estimator, X, y, groups, scoring, cv, n_jobs, verbose, fit_params, pre_dispatch, error_score)\u001b[0m\n\u001b[1;32m    395\u001b[0m \u001b[39m\u001b[39m\u001b[39m\"\"\"Evaluate a score by cross-validation.\u001b[39;00m\n\u001b[1;32m    396\u001b[0m \n\u001b[1;32m    397\u001b[0m \u001b[39mRead more in the :ref:`User Guide <cross_validation>`.\u001b[39;00m\n\u001b[0;32m   (...)\u001b[0m\n\u001b[1;32m    510\u001b[0m \u001b[39m[0.3315057  0.08022103 0.03531816]\u001b[39;00m\n\u001b[1;32m    511\u001b[0m \u001b[39m\"\"\"\u001b[39;00m\n\u001b[1;32m    512\u001b[0m \u001b[39m# To ensure multimetric format is not supported\u001b[39;00m\n\u001b[0;32m--> 513\u001b[0m scorer \u001b[39m=\u001b[39m check_scoring(estimator, scoring\u001b[39m=\u001b[39;49mscoring)\n\u001b[1;32m    515\u001b[0m cv_results \u001b[39m=\u001b[39m cross_validate(\n\u001b[1;32m    516\u001b[0m     estimator\u001b[39m=\u001b[39mestimator,\n\u001b[1;32m    517\u001b[0m     X\u001b[39m=\u001b[39mX,\n\u001b[0;32m   (...)\u001b[0m\n\u001b[1;32m    526\u001b[0m     error_score\u001b[39m=\u001b[39merror_score,\n\u001b[1;32m    527\u001b[0m )\n\u001b[1;32m    528\u001b[0m \u001b[39mreturn\u001b[39;00m cv_results[\u001b[39m\"\u001b[39m\u001b[39mtest_score\u001b[39m\u001b[39m\"\u001b[39m]\n",
      "File \u001b[0;32m~/anaconda3/envs/learn-env/lib/python3.9/site-packages/sklearn/metrics/_scorer.py:503\u001b[0m, in \u001b[0;36mcheck_scoring\u001b[0;34m(estimator, scoring, allow_none)\u001b[0m\n\u001b[1;32m    501\u001b[0m         \u001b[39mreturn\u001b[39;00m \u001b[39mNone\u001b[39;00m\n\u001b[1;32m    502\u001b[0m     \u001b[39melse\u001b[39;00m:\n\u001b[0;32m--> 503\u001b[0m         \u001b[39mraise\u001b[39;00m \u001b[39mTypeError\u001b[39;00m(\n\u001b[1;32m    504\u001b[0m             \u001b[39m\"\u001b[39m\u001b[39mIf no scoring is specified, the estimator passed should \u001b[39m\u001b[39m\"\u001b[39m\n\u001b[1;32m    505\u001b[0m             \u001b[39m\"\u001b[39m\u001b[39mhave a \u001b[39m\u001b[39m'\u001b[39m\u001b[39mscore\u001b[39m\u001b[39m'\u001b[39m\u001b[39m method. The estimator \u001b[39m\u001b[39m%r\u001b[39;00m\u001b[39m does not.\u001b[39m\u001b[39m\"\u001b[39m \u001b[39m%\u001b[39m estimator\n\u001b[1;32m    506\u001b[0m         )\n\u001b[1;32m    507\u001b[0m \u001b[39melif\u001b[39;00m \u001b[39misinstance\u001b[39m(scoring, Iterable):\n\u001b[1;32m    508\u001b[0m     \u001b[39mraise\u001b[39;00m \u001b[39mValueError\u001b[39;00m(\n\u001b[1;32m    509\u001b[0m         \u001b[39m\"\u001b[39m\u001b[39mFor evaluating multiple scores, use \u001b[39m\u001b[39m\"\u001b[39m\n\u001b[1;32m    510\u001b[0m         \u001b[39m\"\u001b[39m\u001b[39msklearn.model_selection.cross_validate instead. \u001b[39m\u001b[39m\"\u001b[39m\n\u001b[1;32m    511\u001b[0m         \u001b[39m\"\u001b[39m\u001b[39m{0}\u001b[39;00m\u001b[39m was passed.\u001b[39m\u001b[39m\"\u001b[39m\u001b[39m.\u001b[39mformat(scoring)\n\u001b[1;32m    512\u001b[0m     )\n",
      "\u001b[0;31mTypeError\u001b[0m: If no scoring is specified, the estimator passed should have a 'score' method. The estimator <keras.engine.sequential.Sequential object at 0x2a81d4f40> does not."
     ]
    }
   ],
   "source": [
    "# This will throw an error.\n",
    "\n",
    "cross_val_score(model, X_pure_train, y_pure_train)"
   ]
  },
  {
   "cell_type": "code",
   "execution_count": 19,
   "metadata": {},
   "outputs": [],
   "source": [
    "def build_model():\n",
    "    model = Sequential()\n",
    "    model.add(Dense(12, activation='relu', input_dim=64))\n",
    "    model.add(Dense(8, activation='relu'))\n",
    "    model.add(Dense(4, activation='relu'))\n",
    "    model.add(Dense(1, activation = 'sigmoid'))\n",
    "\n",
    "    model.compile(optimizer='adam',\n",
    "                  loss='binary_crossentropy',\n",
    "                  metrics=['accuracy'])\n",
    "    return model"
   ]
  },
  {
   "cell_type": "code",
   "execution_count": 20,
   "metadata": {},
   "outputs": [
    {
     "ename": "NameError",
     "evalue": "name 'KerasClassifier' is not defined",
     "output_type": "error",
     "traceback": [
      "\u001b[0;31m---------------------------------------------------------------------------\u001b[0m",
      "\u001b[0;31mNameError\u001b[0m                                 Traceback (most recent call last)",
      "Cell \u001b[0;32mIn[20], line 1\u001b[0m\n\u001b[0;32m----> 1\u001b[0m keras_model \u001b[39m=\u001b[39m KerasClassifier(build_model,\n\u001b[1;32m      2\u001b[0m                               epochs\u001b[39m=\u001b[39m\u001b[39m50\u001b[39m,\n\u001b[1;32m      3\u001b[0m                               batch_size\u001b[39m=\u001b[39m\u001b[39m32\u001b[39m,\n\u001b[1;32m      4\u001b[0m                               verbose\u001b[39m=\u001b[39m\u001b[39m2\u001b[39m)\n",
      "\u001b[0;31mNameError\u001b[0m: name 'KerasClassifier' is not defined"
     ]
    }
   ],
   "source": [
    "keras_model = KerasClassifier(build_model,\n",
    "                              epochs=50,\n",
    "                              batch_size=32,\n",
    "                              verbose=2)"
   ]
  },
  {
   "cell_type": "code",
   "execution_count": null,
   "metadata": {},
   "outputs": [],
   "source": [
    "type(keras_model)"
   ]
  },
  {
   "cell_type": "code",
   "execution_count": null,
   "metadata": {},
   "outputs": [],
   "source": [
    "cross_val_score(keras_model, X_pure_train, y_pure_train)"
   ]
  },
  {
   "cell_type": "markdown",
   "metadata": {},
   "source": [
    "## Regularization"
   ]
  },
  {
   "cell_type": "markdown",
   "metadata": {},
   "source": [
    "Does regularization make sense in the context of neural networks? <br/>\n",
    "\n",
    "Yes! We still have all of the salient ingredients: a loss function, overfitting vs. underfitting, and coefficients (weights) that could get too large.\n",
    "\n",
    "But there are now a few different flavors besides L1 and L2 regularization. (Note that L1 regularization is not common in the context of  neural networks.)\n",
    "\n",
    "We'll add a few more layers to give regularization a better chance of making a difference!"
   ]
  },
  {
   "cell_type": "code",
   "execution_count": null,
   "metadata": {},
   "outputs": [],
   "source": [
    "model = Sequential()\n",
    "model.add(Dense(30, activation='relu', input_dim=64))\n",
    "\n",
    "# We can add L2 (or L1) regularization right into\n",
    "# the layer with the kernel_regularizer parameter.\n",
    "\n",
    "model.add(Dense(20, activation='relu',\n",
    "                kernel_regularizer=l2(l2=0.05)))\n",
    "\n",
    "# Note that there is also a bias_regularizer,\n",
    "# but this tends to have less effect.\n",
    "\n",
    "model.add(Dense(12, activation='relu'))\n",
    "model.add(Dense(12, activation='relu'))\n",
    "model.add(Dense(12, activation='relu'))\n",
    "model.add(Dense(8, activation='relu'))\n",
    "model.add(Dense(4, activation='relu'))\n",
    "model.add(Dense(1, activation ='sigmoid'))\n",
    "\n",
    "model.compile(optimizer='adam',\n",
    "              loss='binary_crossentropy',\n",
    "              metrics=['accuracy'])\n",
    "\n",
    "results = model.fit(X_pure_train, y_pure_train, epochs=20, batch_size=32,\n",
    "                    verbose=0, validation_data=(X_val, y_val))\n",
    "\n",
    "train_loss = results.history['loss']\n",
    "train_acc = results.history['accuracy']\n",
    "val_loss = results.history['val_loss']\n",
    "val_acc = results.history['val_accuracy']\n",
    "\n",
    "\n",
    "fig, (ax1, ax2) = plt.subplots(1, 2, figsize=(10, 5))\n",
    "sns.lineplot(x=results.epoch, y=train_loss, ax=ax1, label='train_loss')\n",
    "sns.lineplot(x=results.epoch, y=train_acc, ax=ax2, label='train_accuracy')\n",
    "\n",
    "sns.lineplot(x=results.epoch, y=val_loss, ax=ax1, label='val_loss')\n",
    "sns.lineplot(x=results.epoch, y=val_acc, ax=ax2, label='val_accuracy');"
   ]
  },
  {
   "cell_type": "markdown",
   "metadata": {},
   "source": [
    "Adding L2 to multiple layers:"
   ]
  },
  {
   "cell_type": "code",
   "execution_count": null,
   "metadata": {},
   "outputs": [],
   "source": [
    "model = Sequential()\n",
    "model.add(Dense(30, activation='relu',\n",
    "                input_dim=64))\n",
    "model.add(Dense(20, activation='relu',\n",
    "                kernel_regularizer=l2(l2=0.01)))\n",
    "\n",
    "model.add(Dense(12, activation='relu',\n",
    "                kernel_regularizer=l2(l2=0.01)))\n",
    "model.add(Dense(12, activation='relu',\n",
    "                kernel_regularizer=l2(l2=0.01)))\n",
    "model.add(Dense(12, activation='relu',\n",
    "                kernel_regularizer=l2(l2=0.01)))\n",
    "model.add(Dense(8, activation='relu',\n",
    "                kernel_regularizer=l2(l2=0.01)))\n",
    "model.add(Dense(4, activation='relu',\n",
    "                kernel_regularizer=l2(l2=0.01)))\n",
    "model.add(Dense(1, activation='sigmoid'))\n",
    "\n",
    "model.compile(optimizer='adam',\n",
    "              loss='binary_crossentropy',\n",
    "              metrics=['accuracy'])\n",
    "\n",
    "results = model.fit(X_pure_train, y_pure_train, epochs=20, batch_size=32,\n",
    "                    verbose=0, validation_data=(X_val, y_val))\n",
    "\n",
    "train_loss = results.history['loss']\n",
    "train_acc = results.history['accuracy']\n",
    "val_loss = results.history['val_loss']\n",
    "val_acc = results.history['val_accuracy']\n",
    "\n",
    "\n",
    "fig, (ax1, ax2) = plt.subplots(1, 2, figsize=(10, 5))\n",
    "sns.lineplot(x=results.epoch, y=train_loss, ax=ax1, label='train_loss')\n",
    "sns.lineplot(x=results.epoch, y=train_acc, ax=ax2, label='train_accuracy')\n",
    "\n",
    "sns.lineplot(x=results.epoch, y=val_loss, ax=ax1, label='val_loss')\n",
    "sns.lineplot(x=results.epoch, y=val_acc, ax=ax2, label='val_accuracy');"
   ]
  },
  {
   "cell_type": "markdown",
   "metadata": {},
   "source": [
    "### Dropout\n",
    "\n",
    "We can also specify a dropout layer in keras, which randomly shuts off different nodes during training. This can help to prevent overfitting.\n",
    "\n",
    "![drop_out](https://raw.githubusercontent.com/flatiron-school/DS-Instructor-Content/main/Deep-Learning/Network-Regularization-Evaluation/images/drop_out.png?token=GHSAT0AAAAAACDAYTVNNFDP3F6QLL3ODEOCZD2JSYQ)"
   ]
  },
  {
   "cell_type": "markdown",
   "metadata": {},
   "source": [
    "### Exercise\n",
    "\n",
    "To add dropout to a `keras` network, simply add it as though it were a layer. It will apply to the immediately preceding layer.\n",
    "\n",
    "Add Dropout to one or more layers below."
   ]
  },
  {
   "cell_type": "code",
   "execution_count": null,
   "metadata": {},
   "outputs": [],
   "source": [
    "model = Sequential()\n",
    "model.add(Dense(30, activation='relu', input_dim=64))\n",
    "model.add(Dense(20, activation='relu'))\n",
    "model.add(Dense(12, activation='relu'))\n",
    "model.add(Dense(12, activation='relu'))\n",
    "model.add(Dense(12, activation='relu'))\n",
    "model.add(Dense(8, activation='relu'))\n",
    "model.add(Dense(4, activation='relu'))\n",
    "model.add(Dense(1, activation ='sigmoid'))\n",
    "\n",
    "model.compile(optimizer='adam',\n",
    "              loss='binary_crossentropy',\n",
    "              metrics=['accuracy'])\n",
    "\n",
    "results = model.fit(X_pure_train, y_pure_train, epochs=50,\n",
    "                    batch_size= 32, verbose=0,\n",
    "                    validation_data=(X_val, y_val))\n",
    "\n",
    "train_loss = results.history['loss']\n",
    "train_acc = results.history['accuracy']\n",
    "val_loss = results.history['val_loss']\n",
    "val_acc = results.history['val_accuracy']\n",
    "\n",
    "\n",
    "fig, (ax1, ax2) = plt.subplots(1, 2, figsize=(10, 5))\n",
    "sns.lineplot(x=results.epoch, y=train_loss, ax=ax1, label='train_loss')\n",
    "sns.lineplot(x=results.epoch, y=train_acc, ax=ax2, label='train_accuracy')\n",
    "\n",
    "sns.lineplot(x=results.epoch, y=val_loss, ax=ax1, label='val_loss')\n",
    "sns.lineplot(x=results.epoch, y=val_acc, ax=ax2, label='val_accuracy');"
   ]
  },
  {
   "cell_type": "markdown",
   "metadata": {},
   "source": [
    "<details>\n",
    "    <summary>One answer here</summary>\n",
    "<code>model = Sequential()\n",
    "model.add(Dense(30, activation='relu', input_dim=64))\n",
    "model.add(Dense(20, activation='relu'))\n",
    "model.add(Dropout(0.5))\n",
    "model.add(Dense(12, activation='relu'))\n",
    "model.add(Dropout(0.2))\n",
    "model.add(Dense(12, activation='relu'))\n",
    "model.add(Dense(12, activation='relu'))\n",
    "model.add(Dense(8, activation='relu'))\n",
    "model.add(Dense(4, activation='relu'))\n",
    "model.add(Dense(1, activation ='sigmoid'))\n",
    "\n",
    "model.compile(optimizer='adam',\n",
    "              loss='binary_crossentropy',\n",
    "              metrics=['accuracy'])\n",
    "\n",
    "results = model.fit(X_pure_train, y_pure_train, epochs=50,\n",
    "                    batch_size= 32, verbose=0,\n",
    "                    validation_data=(X_val, y_val))\n",
    "\n",
    "train_loss = results.history['loss']\n",
    "train_acc = results.history['accuracy']\n",
    "val_loss = results.history['val_loss']\n",
    "val_acc = results.history['val_accuracy']\n",
    "\n",
    "\n",
    "fig, (ax1, ax2) = plt.subplots(1, 2, figsize=(10, 5))\n",
    "sns.lineplot(x=results.epoch, y=train_loss, ax=ax1, label='train_loss')\n",
    "sns.lineplot(x=results.epoch, y=train_acc, ax=ax2, label='train_accuracy')\n",
    "\n",
    "sns.lineplot(x=results.epoch, y=val_loss, ax=ax1, label='val_loss')\n",
    "sns.lineplot(x=results.epoch, y=val_acc, ax=ax2, label='val_accuracy');</code>\n",
    "</details>"
   ]
  },
  {
   "cell_type": "code",
   "execution_count": null,
   "metadata": {},
   "outputs": [],
   "source": [
    "results.history['val_accuracy'][-1]"
   ]
  },
  {
   "cell_type": "markdown",
   "metadata": {},
   "source": [
    "### Early Stopping"
   ]
  },
  {
   "cell_type": "markdown",
   "metadata": {},
   "source": [
    "We can also tell our neural network to stop once it stops realizing any gain.\n",
    "\n",
    "Here we tell it to stop once the a very small positive change in the validation loss occurs:"
   ]
  },
  {
   "cell_type": "code",
   "execution_count": null,
   "metadata": {},
   "outputs": [],
   "source": [
    "model = Sequential()\n",
    "model.add(Dense(30, activation='relu', input_dim=64))\n",
    "model.add(Dense(20, activation='relu'))\n",
    "model.add(Dropout(0.5))\n",
    "model.add(Dense(12, activation='relu'))\n",
    "model.add(Dense(12, activation='relu'))\n",
    "model.add(Dense(12, activation='relu'))\n",
    "model.add(Dense(8, activation='relu'))\n",
    "model.add(Dense(4, activation='relu'))\n",
    "model.add(Dense(1, activation ='sigmoid'))\n",
    "\n",
    "model.compile(optimizer='adam',\n",
    "              loss='binary_crossentropy',\n",
    "              metrics=['accuracy'])\n",
    "\n",
    "# Define the EarlyStopping object\n",
    "early_stop = EarlyStopping(monitor='val_loss', min_delta=1e-8,\n",
    "                           verbose=1,\n",
    "                           mode='min')\n",
    "\n",
    "# Place this in a list as the value of the `callbacks` parameter\n",
    "# in the `.fit()` method.\n",
    "results = model.fit(X_pure_train, y_pure_train,\n",
    "                    epochs=20, batch_size=32,\n",
    "                    verbose=0, validation_data=(X_val, y_val),\n",
    "                    callbacks=[early_stop])\n",
    "\n",
    "train_loss = results.history['loss']\n",
    "train_acc = results.history['accuracy']\n",
    "val_loss = results.history['val_loss']\n",
    "val_acc = results.history['val_accuracy']\n",
    "\n",
    "\n",
    "fig, (ax1, ax2) = plt.subplots(1, 2, figsize=(10, 5))\n",
    "sns.lineplot(x=results.epoch, y=train_loss, ax=ax1, label='train_loss')\n",
    "sns.lineplot(x=results.epoch, y=train_acc, ax=ax2, label='train_accuracy')\n",
    "\n",
    "sns.lineplot(x=results.epoch, y=val_loss, ax=ax1, label='val_loss')\n",
    "sns.lineplot(x=results.epoch, y=val_acc, ax=ax2, label='val_accuracy');"
   ]
  },
  {
   "cell_type": "markdown",
   "metadata": {},
   "source": [
    "### Exercise\n",
    "\n",
    "That probably stopped too early. We can specify the number of epochs in which it doesn't see decrease in the loss with the `patience` parameter. Modify the code below to include an Early Stop with a patience of 5 epochs."
   ]
  },
  {
   "cell_type": "code",
   "execution_count": null,
   "metadata": {},
   "outputs": [],
   "source": [
    "model = Sequential()\n",
    "model.add(Dense(30, activation='relu', input_dim=64))\n",
    "model.add(Dense(20, activation='relu'))\n",
    "model.add(Dropout(0.5))\n",
    "model.add(Dense(12, activation='relu'))\n",
    "model.add(Dense(12, activation='relu'))\n",
    "model.add(Dense(12, activation='relu'))\n",
    "model.add(Dense(8, activation='relu'))\n",
    "model.add(Dense(4, activation='relu'))\n",
    "model.add(Dense(1, activation ='sigmoid'))\n",
    "\n",
    "model.compile(optimizer='adam',\n",
    "              loss='binary_crossentropy',\n",
    "              metrics=['accuracy'])\n",
    "\n",
    "# Define the EarlyStopping object\n",
    "early_stop = EarlyStopping(monitor='val_loss', min_delta=1e-8,\n",
    "                           verbose=1, patience=5,\n",
    "                           mode='min')\n",
    "\n",
    "# Place this in a list as the value of the `callbacks` parameter\n",
    "# in the `.fit()` method.\n",
    "results = model.fit(X_pure_train, y_pure_train,\n",
    "                    epochs=50, batch_size= 32,\n",
    "                    verbose=0, validation_data=(X_val, y_val),\n",
    "                    callbacks=[early_stop])\n",
    "\n",
    "train_loss = results.history['loss']\n",
    "train_acc = results.history['accuracy']\n",
    "val_loss = results.history['val_loss']\n",
    "val_acc = results.history['val_accuracy']\n",
    "\n",
    "\n",
    "fig, (ax1, ax2) = plt.subplots(1, 2, figsize=(10, 5))\n",
    "sns.lineplot(x=results.epoch, y=train_loss, ax=ax1, label='train_loss')\n",
    "sns.lineplot(x=results.epoch, y=train_acc, ax=ax2, label='train_accuracy')\n",
    "\n",
    "sns.lineplot(x=results.epoch, y=val_loss, ax=ax1, label='val_loss')\n",
    "sns.lineplot(x=results.epoch, y=val_acc, ax=ax2, label='val_accuracy');"
   ]
  },
  {
   "cell_type": "markdown",
   "metadata": {},
   "source": [
    "<details>\n",
    "    <summary>One answer here</summary>\n",
    "<code>model = Sequential()\n",
    "model.add(Dense(30, activation='relu', input_dim=64))\n",
    "model.add(Dense(20, activation='relu'))\n",
    "model.add(Dropout(0.5))\n",
    "model.add(Dense(12, activation='relu'))\n",
    "model.add(Dense(12, activation='relu'))\n",
    "model.add(Dense(12, activation='relu'))\n",
    "model.add(Dense(8, activation='relu'))\n",
    "model.add(Dense(4, activation='relu'))\n",
    "model.add(Dense(1, activation ='sigmoid'))\n",
    "\n",
    "model.compile(optimizer='adam',\n",
    "              loss='binary_crossentropy',\n",
    "              metrics=['accuracy'])\n",
    "\n",
    "# Define the EarlyStopping object\n",
    "\n",
    "\n",
    "\n",
    "# Place this in a list as the value of the `callbacks` parameter\n",
    "# in the `.fit()` method.\n",
    "results = model.fit(X_pure_train, y_pure_train,\n",
    "                    epochs=50, batch_size= 32,\n",
    "                    verbose=0, validation_data=(X_val, y_val),\n",
    "                    callbacks=[early_stop])\n",
    "\n",
    "train_loss = results.history['loss']\n",
    "train_acc = results.history['accuracy']\n",
    "val_loss = results.history['val_loss']\n",
    "val_acc = results.history['val_accuracy']\n",
    "\n",
    "\n",
    "fig, (ax1, ax2) = plt.subplots(1, 2, figsize=(10, 5))\n",
    "sns.lineplot(x=results.epoch, y=train_loss, ax=ax1, label='train_loss')\n",
    "sns.lineplot(x=results.epoch, y=train_acc, ax=ax2, label='train_accuracy')\n",
    "\n",
    "sns.lineplot(x=results.epoch, y=val_loss, ax=ax1, label='val_loss')\n",
    "sns.lineplot(x=results.epoch, y=val_acc, ax=ax2, label='val_accuracy');</code>\n",
    "</details>"
   ]
  },
  {
   "cell_type": "code",
   "execution_count": null,
   "metadata": {},
   "outputs": [],
   "source": [
    "results.history['val_accuracy'][-1]"
   ]
  },
  {
   "cell_type": "markdown",
   "metadata": {},
   "source": [
    "## Multiclass Classification and Softmax"
   ]
  },
  {
   "cell_type": "markdown",
   "metadata": {},
   "source": [
    "Now let's return to the problem of predicting digits 0 through 9."
   ]
  },
  {
   "cell_type": "code",
   "execution_count": null,
   "metadata": {},
   "outputs": [],
   "source": [
    "digits = load_digits()\n",
    "X = digits.data\n",
    "y = digits.target"
   ]
  },
  {
   "cell_type": "code",
   "execution_count": null,
   "metadata": {},
   "outputs": [],
   "source": [
    "X_train, X_test, y_train, y_test = train_test_split(X, y,\n",
    "                                                    random_state=42,\n",
    "                                                    test_size=0.2)\n",
    "X_pure_train, X_val, y_pure_train, y_val =\\\n",
    "    train_test_split(X_train, y_train,\n",
    "                     random_state=42, test_size=0.2)\n",
    "X_pure_train, X_val, X_test = X_pure_train/16, X_val/16, X_test/16"
   ]
  },
  {
   "cell_type": "markdown",
   "metadata": {},
   "source": [
    "For a multiclass output, our neural net expects our target to be in a certain form."
   ]
  },
  {
   "cell_type": "code",
   "execution_count": null,
   "metadata": {},
   "outputs": [],
   "source": [
    "ohe = OneHotEncoder(sparse=False)\n",
    "y_pure_train = ohe.fit_transform(y_pure_train.reshape(-1,1))\n",
    "y_val = ohe.transform(y_val.reshape(-1,1))\n",
    "y_test = ohe.transform(y_test.reshape(-1,1))"
   ]
  },
  {
   "cell_type": "code",
   "execution_count": null,
   "metadata": {},
   "outputs": [],
   "source": [
    "y_test"
   ]
  },
  {
   "cell_type": "code",
   "execution_count": null,
   "metadata": {},
   "outputs": [],
   "source": [
    "# Model from above, but now with ten output neurons:\n",
    "\n",
    "model = Sequential()\n",
    "model.add(Dense(12, activation='relu', input_dim=64))\n",
    "model.add(Dense(8, activation='relu'))\n",
    "model.add(Dense(10, activation='softmax'))\n",
    "\n",
    "model.compile(optimizer='adam',\n",
    "              loss='categorical_crossentropy',\n",
    "              metrics=['accuracy'])\n",
    "\n",
    "results = model.fit(X_pure_train, y_pure_train,\n",
    "                   epochs=50, batch_size=10,\n",
    "                   validation_data=(X_val, y_val))"
   ]
  },
  {
   "cell_type": "markdown",
   "metadata": {},
   "source": [
    "$$\\large \\text{Softmax}(x_{i}) = \\frac{\\exp(x_i)}{\\sum_j \\exp(x_j)}$$\n",
    "\n",
    "The sofmax function outputs a number between 0 and 1 for each of our classes.  All of the probabilities of the classes sum up to 1.\n",
    "\n",
    "The number of nodes in our output layer equals the number of categories in our dataset.\n",
    "\n",
    "We also need a new loss function: **categorical crossentropy**, which calculates a separate loss for each label and then sums the results."
   ]
  },
  {
   "cell_type": "code",
   "execution_count": null,
   "metadata": {},
   "outputs": [],
   "source": [
    "history = results.history\n",
    "training_loss = history['loss']\n",
    "val_loss = history['val_loss']\n",
    "training_accuracy = history['accuracy']\n",
    "val_accuracy = history['val_accuracy']"
   ]
  },
  {
   "cell_type": "code",
   "execution_count": null,
   "metadata": {},
   "outputs": [],
   "source": [
    "fig, (ax1,ax2) = plt.subplots(1,2,figsize=(15,5))\n",
    "\n",
    "\n",
    "sns.lineplot(x=list(range(len(training_loss))),\n",
    "             y=training_loss, color='r', label='training', ax=ax1)\n",
    "sns.lineplot(x=list(range(len(val_loss))),\n",
    "             y=val_loss, color='b', label='validation', ax=ax1)\n",
    "sns.lineplot(x=list(range(len(training_loss))),\n",
    "             y=training_accuracy, color='r', label='training',ax=ax2)\n",
    "sns.lineplot(x=list(range(len(val_loss))),\n",
    "             y=val_accuracy, color='b', label='validation',ax=ax2)\n",
    "ax1.legend();"
   ]
  },
  {
   "cell_type": "code",
   "execution_count": null,
   "metadata": {},
   "outputs": [],
   "source": [
    "y_hat_test = np.argmax(model.predict(X_test), axis=-1)"
   ]
  },
  {
   "cell_type": "code",
   "execution_count": null,
   "metadata": {},
   "outputs": [],
   "source": [
    "y_test_restore = ohe.inverse_transform(y_test)\n",
    "confusion_matrix(y_test_restore, y_hat_test)"
   ]
  },
  {
   "cell_type": "markdown",
   "metadata": {},
   "source": [
    "Wow, look at that performance!  \n",
    "\n",
    "That is great, but remember, we were dealing with simple black and white images.  With color, our basic neural net will have less success.\n",
    "\n",
    "We will explore more advanced tools in the coming days.\n"
   ]
  },
  {
   "cell_type": "code",
   "execution_count": null,
   "metadata": {
    "colab_type": "text",
    "id": "EdZDyJfARV8l"
   },
   "outputs": [],
   "source": []
  }
 ],
 "metadata": {
  "celltoolbar": "Raw Cell Format",
  "colab": {
   "collapsed_sections": [],
   "name": "intro-to-keras.ipynb",
   "provenance": []
  },
  "kernelspec": {
   "display_name": "Python 3.9.16 ('learn-env')",
   "language": "python",
   "name": "python3"
  },
  "language_info": {
   "codemirror_mode": {
    "name": "ipython",
    "version": 3
   },
   "file_extension": ".py",
   "mimetype": "text/x-python",
   "name": "python",
   "nbconvert_exporter": "python",
   "pygments_lexer": "ipython3",
   "version": "3.9.16"
  },
  "toc": {
   "base_numbering": 1,
   "nav_menu": {},
   "number_sections": true,
   "sideBar": true,
   "skip_h1_title": false,
   "title_cell": "Table of Contents",
   "title_sidebar": "Contents",
   "toc_cell": false,
   "toc_position": {},
   "toc_section_display": true,
   "toc_window_display": false
  },
  "varInspector": {
   "cols": {
    "lenName": 16,
    "lenType": 16,
    "lenVar": 40
   },
   "kernels_config": {
    "python": {
     "delete_cmd_postfix": "",
     "delete_cmd_prefix": "del ",
     "library": "var_list.py",
     "varRefreshCmd": "print(var_dic_list())"
    },
    "r": {
     "delete_cmd_postfix": ") ",
     "delete_cmd_prefix": "rm(",
     "library": "var_list.r",
     "varRefreshCmd": "cat(var_dic_list()) "
    }
   },
   "types_to_exclude": [
    "module",
    "function",
    "builtin_function_or_method",
    "instance",
    "_Feature"
   ],
   "window_display": false
  },
  "vscode": {
   "interpreter": {
    "hash": "50d4d0a5d1d070756a938e6172ade53ddb36047673ca4db64a53e89bf45826b5"
   }
  }
 },
 "nbformat": 4,
 "nbformat_minor": 4
}
